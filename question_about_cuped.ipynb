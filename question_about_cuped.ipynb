{
 "cells": [
  {
   "cell_type": "code",
   "execution_count": 33,
   "id": "2fd15630",
   "metadata": {},
   "outputs": [],
   "source": [
    "import numpy as np\n",
    "from scipy import stats\n",
    "from collections import namedtuple\n",
    "from tqdm import tqdm\n",
    "from statsmodels.stats.proportion import proportion_confint\n",
    "import matplotlib.pyplot as plt\n",
    "%matplotlib inline\n",
    "plt.style.use('ggplot') #graphics style"
   ]
  },
  {
   "cell_type": "code",
   "execution_count": 34,
   "id": "c7235c47",
   "metadata": {},
   "outputs": [],
   "source": [
    "# asymptotic z-test (CLT)\n",
    "ExperimentResults = namedtuple('ExperimentResults', \n",
    "                                        ['effect', 'left', 'right', 'ci_len', 'pval'])\n",
    "def z_test(control, test):\n",
    "    mean_c, mean_t = np.mean(control), np.mean(test)\n",
    "    var_c, var_t = np.var(control), np.var(test)\n",
    "    l_c, l_t = len(control), len(test)\n",
    "    \n",
    "    d = stats.norm(\n",
    "            loc = mean_t - mean_c, \n",
    "            scale = np.sqrt(var_c / l_c + var_t / l_t))\n",
    "    \n",
    "    effect = mean_t - mean_c\n",
    "    left, right = d.ppf([0.025, 0.975])    #ppf — квантиль распределения\n",
    "    ci_len = right - left\n",
    "    pval = 2 * min(d.cdf(0), 1 - d.cdf(0))    #cdf — функция распределения\n",
    "    \n",
    "    return(ExperimentResults(effect, left, right, ci_len, pval))"
   ]
  },
  {
   "cell_type": "code",
   "execution_count": 35,
   "id": "5d99cdc5",
   "metadata": {},
   "outputs": [],
   "source": [
    "# cuped test without mean(covariate) shift \n",
    "def pure_cuped_test(control, test, control_before, test_before):\n",
    "    \n",
    "    theta = (np.cov(control, control_before)[0,1] + np.cov(test, test_before)[0,1]) / (np.var(control_before) + np.var(test_before))\n",
    "    control_cuped = control - theta * control_before\n",
    "    test_cuped = test - theta * test_before\n",
    "    \n",
    "    return z_test(control_cuped, test_cuped)"
   ]
  },
  {
   "cell_type": "code",
   "execution_count": 36,
   "id": "78e77aec",
   "metadata": {},
   "outputs": [],
   "source": [
    "# cuped test with mean(covariate) shift\n",
    "def booking_cuped_test(control, test, control_before, test_before):\n",
    "    \n",
    "    theta = (np.cov(control, control_before)[0,1] + np.cov(test, test_before)[0,1]) / (np.var(control_before) + np.var(test_before))\n",
    "    \n",
    "    control_before_mean, test_before_mean = np.mean(control_before), np.mean(test_before)\n",
    "    control_cuped = control - theta * (control_before - control_before_mean)\n",
    "    test_cuped = test - theta * (test_before - test_before_mean)\n",
    "    \n",
    "    return z_test(control_cuped, test_cuped)"
   ]
  },
  {
   "cell_type": "code",
   "execution_count": 41,
   "id": "1b23b7e5",
   "metadata": {},
   "outputs": [
    {
     "name": "stderr",
     "output_type": "stream",
     "text": [
      "100%|████████████████████████████████████| 10000/10000 [00:51<00:00, 194.65it/s]"
     ]
    },
    {
     "name": "stdout",
     "output_type": "stream",
     "text": [
      "Asymptotic z-test: 521 mistakes among 10000 test (5.21%). CI for type I error: [4.79%, 5.66%].\n",
      "Pure CUPED test: 496 mistakes among 10000 test (4.96%). CI for type I error: [4.55%, 5.4%].\n",
      "Booking CUPED test: 8383 mistakes among 10000 test (83.83%). CI for type I error: [83.1%, 84.54%].\n"
     ]
    },
    {
     "name": "stderr",
     "output_type": "stream",
     "text": [
      "\n"
     ]
    }
   ],
   "source": [
    "# Now we simulate A/A-test and check if type I error equals 5%\n",
    "\n",
    "bad_cnt, bad_cnt_pure_cuped, bad_cnt_booking_cuped = 0,0,0 # here we count if test incorrectly rejected the hypothesis H_0\n",
    "pval_arr, pval_arr_pure_cuped, pval_arr_booking_cuped = [], [], []\n",
    "N = 10**4  #number of simulations\n",
    "sample_len = 10000  #length of sample\n",
    "\n",
    "for i in tqdm(range(N)):\n",
    "    \n",
    "    # simulate control and test AA samples and simulate previous data for them \n",
    "    control_before = stats.expon(scale = 100).rvs(sample_len)\n",
    "    control = control_before + stats.norm(loc=0, scale=10).rvs(sample_len)\n",
    "    test_before = stats.expon(scale = 100).rvs(sample_len)\n",
    "    test = test_before + stats.norm(loc=0, scale=10).rvs(sample_len)\n",
    "    \n",
    "    # find p-value for each test \n",
    "    _,_,_,_,p = z_test(control, test)\n",
    "    _,_,_,_,p_pc = pure_cuped_test(control, test, control_before, test_before)\n",
    "    _,_,_,_,p_bc = booking_cuped_test(control, test, control_before, test_before)\n",
    "    pval_arr.append(p)\n",
    "    pval_arr_pure_cuped.append(p_pc)\n",
    "    pval_arr_booking_cuped.append(p_bc)\n",
    "    \n",
    "    # if test incorrectly rejected the hypothesis add to bad count\n",
    "    if p < 0.05:\n",
    "        bad_cnt += 1\n",
    "    if p_pc < 0.05:\n",
    "        bad_cnt_pure_cuped += 1\n",
    "    if p_bc < 0.05:\n",
    "        bad_cnt_booking_cuped += 1\n",
    "\n",
    "# find confidence intervals for type I error of our tests (5% should be in CI)\n",
    "l_t, r_t = proportion_confint(count = bad_cnt, nobs = N, alpha=0.05, method='wilson')\n",
    "print(f\"Asymptotic z-test: {bad_cnt} mistakes among {N} test ({100 * bad_cnt / N}%).\" \n",
    "      f\" CI for type I error: [{round(100 * l_t, 2)}%, {round(100 * r_t, 2)}%].\")\n",
    "\n",
    "l_t, r_t = proportion_confint(count = bad_cnt_pure_cuped, nobs = N, alpha=0.05, method='wilson')\n",
    "print(f\"Pure CUPED test: {bad_cnt_pure_cuped} mistakes among {N} test ({100 * bad_cnt_pure_cuped / N}%).\" \n",
    "      f\" CI for type I error: [{round(100 * l_t, 2)}%, {round(100 * r_t, 2)}%].\")\n",
    "\n",
    "l_t, r_t = proportion_confint(count = bad_cnt_booking_cuped, nobs = N, alpha=0.05, method='wilson')\n",
    "print(f\"Booking CUPED test: {bad_cnt_booking_cuped} mistakes among {N} test ({100 * bad_cnt_booking_cuped / N}%).\" \n",
    "      f\" CI for type I error: [{round(100 * l_t, 2)}%, {round(100 * r_t, 2)}%].\")"
   ]
  },
  {
   "cell_type": "code",
   "execution_count": 42,
   "id": "bc97eaa8",
   "metadata": {},
   "outputs": [
    {
     "data": {
      "image/png": "[encoded data removed]",
      "text/plain": [
       "<Figure size 640x480 with 1 Axes>"
      ]
     },
     "metadata": {},
     "output_type": "display_data"
    }
   ],
   "source": [
    "plt.hist(pval_arr, bins=30, alpha=0.7, density=True, label = 'asympt z-test')\n",
    "plt.hist(pval_arr_pure_cuped, bins=30, alpha=0.7, density=True, label = 'pure CUPED')\n",
    "plt.hist(pval_arr_booking_cuped, bins=30, alpha=0.7, density=True, label = 'booking CUPED')\n",
    "plt.legend(loc='upper right')\n",
    "plt.show()\n",
    "# pvalue distribution is not uniform for CUPED with shift"
   ]
  },
  {
   "cell_type": "code",
   "execution_count": null,
   "id": "3cbc8429",
   "metadata": {},
   "outputs": [],
   "source": []
  }
 ],
 "metadata": {
  "kernelspec": {
   "display_name": "Python 3 (ipykernel)",
   "language": "python",
   "name": "python3"
  },
  "language_info": {
   "codemirror_mode": {
    "name": "ipython",
    "version": 3
   },
   "file_extension": ".py",
   "mimetype": "text/x-python",
   "name": "python",
   "nbconvert_exporter": "python",
   "pygments_lexer": "ipython3",
   "version": "3.9.13"
  }
 },
 "nbformat": 4,
 "nbformat_minor": 5
}
